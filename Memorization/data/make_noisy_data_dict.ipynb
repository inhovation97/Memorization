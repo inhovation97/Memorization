{
 "cells": [
  {
   "cell_type": "code",
   "execution_count": null,
   "metadata": {},
   "outputs": [],
   "source": [
    "def load_data_paths_lst(data_path, data_name: str, mode: str=None): # 데이터 경로 리스트 생성\n",
    "    data_dict_lst = []\n",
    "    with open( os.path.join(data_path, f'{data_name}_dict.json'), 'r' ) as f:\n",
    "        data_dict = json.load(f)\n",
    "        data_dict_lst.append(data_dict)\n",
    "    \n",
    "    trainset, validset, testset = [], [], []\n",
    "    data_kind = ['train', 'valid', 'test']\n",
    "    \n",
    "    for d_kind, dataset in zip(data_kind, [trainset, validset, testset]):\n",
    "        for data_paths in data_dict[d_kind].values():\n",
    "            dataset += data_paths\n",
    "\n",
    "    if mode == 'test':\n",
    "        return testset\n",
    "    else: \n",
    "        return trainset, validset"
   ]
  },
  {
   "cell_type": "code",
   "execution_count": 1,
   "metadata": {},
   "outputs": [
    {
     "name": "stderr",
     "output_type": "stream",
     "text": [
      "/home/inho/anaconda3/envs/df_detection/lib/python3.7/site-packages/albumentations/augmentations/transforms.py:1286: FutureWarning: RandomContrast has been deprecated. Please use RandomBrightnessContrast\n",
      "  FutureWarning,\n"
     ]
    }
   ],
   "source": [
    "from torchvision import datasets\n",
    "\n",
    "from noisy_dataset import Noisy_dataset\n",
    "from torch.utils.data import DataLoader\n",
    "import albumentations\n",
    "from albumentations.pytorch import ToTensorV2  # ToTensorV2를 직접 임포트\n",
    "import cv2\n",
    "\n",
    "data_name = 'cifar10'\n",
    "# dataset normalize values\n",
    "if data_name == 'cifar100':\n",
    "    mean = [0.507, 0.487, 0.441]\n",
    "    stdv = [0.267, 0.256, 0.276]\n",
    "elif data_name == 'cifar10':\n",
    "    mean = [0.491, 0.482, 0.447]\n",
    "    stdv = [0.247, 0.243, 0.262]\n",
    "\n",
    "# augmentations\n",
    "train_augs = albumentations.Compose([       albumentations.Resize(224, 224),   \n",
    "                                            albumentations.OneOf([\n",
    "                                                                albumentations.HorizontalFlip(p=0.5), \n",
    "                                                                albumentations.RandomRotate90(p=0.5), \n",
    "                                                                albumentations.VerticalFlip(p=0.5)], \n",
    "                                                            p=1),\n",
    "\n",
    "                                            albumentations.OneOf([\n",
    "                                                                albumentations.MotionBlur(p=0.5), \n",
    "                                                                albumentations.RandomContrast(p=0.5),\n",
    "                                                                albumentations.RandomBrightnessContrast(p=0.5), \n",
    "                                                                albumentations.GaussNoise(p=0.5)], \n",
    "                                                            p=1),\n",
    "\n",
    "                                            albumentations.Normalize(mean = mean, std = stdv),\n",
    "                                            ToTensorV2() ])\n",
    "\n",
    "\n",
    "test_augs = albumentations.Compose([        albumentations.Resize(224, 224),  \n",
    "                                            albumentations.Normalize(mean = mean, std = stdv),\n",
    "                                            ToTensorV2()])\n",
    "\n",
    "train_json_path = '/home/inho/Memorization/data/cifar10_train_NoiseRatio_0.5.json'\n",
    "\n",
    "trainset = Noisy_dataset(\n",
    "    json_path=train_json_path,\n",
    "    transform=train_augs,\n",
    "    )"
   ]
  },
  {
   "cell_type": "code",
   "execution_count": 2,
   "metadata": {},
   "outputs": [
    {
     "data": {
      "text/plain": [
       "{'batch_image': tensor([[[-0.4478, -0.4478, -0.4478,  ..., -1.2734, -1.2734, -1.2734],\n",
       "          [-0.4478, -0.4478, -0.4478,  ..., -1.2734, -1.2734, -1.2734],\n",
       "          [-0.4478, -0.4478, -0.4478,  ..., -1.2734, -1.2734, -1.2734],\n",
       "          ...,\n",
       "          [ 1.6003,  1.6003,  1.6003,  ...,  1.2193,  1.2193,  1.2193],\n",
       "          [ 1.6003,  1.6003,  1.6003,  ...,  1.2193,  1.2193,  1.2193],\n",
       "          [ 1.6003,  1.6003,  1.6003,  ...,  1.2193,  1.2193,  1.2193]],\n",
       " \n",
       "         [[-0.5472, -0.5472, -0.5472,  ..., -1.2089, -1.2089, -1.2089],\n",
       "          [-0.5472, -0.5472, -0.5472,  ..., -1.2089, -1.2089, -1.2089],\n",
       "          [-0.5472, -0.5472, -0.5472,  ..., -1.2089, -1.2089, -1.2089],\n",
       "          ...,\n",
       "          [ 1.7766,  1.7766,  1.7766,  ...,  1.3086,  1.3086,  1.3086],\n",
       "          [ 1.7766,  1.7766,  1.7766,  ...,  1.3086,  1.3086,  1.3086],\n",
       "          [ 1.7766,  1.7766,  1.7766,  ...,  1.3086,  1.3086,  1.3086]],\n",
       " \n",
       "         [[-0.8230, -0.8230, -0.8230,  ..., -1.2122, -1.2122, -1.2122],\n",
       "          [-0.8230, -0.8230, -0.8230,  ..., -1.2122, -1.2122, -1.2122],\n",
       "          [-0.8230, -0.8230, -0.8230,  ..., -1.2122, -1.2122, -1.2122],\n",
       "          ...,\n",
       "          [ 2.0209,  2.0209,  2.0209,  ...,  1.5569,  1.5569,  1.5569],\n",
       "          [ 2.0209,  2.0209,  2.0209,  ...,  1.5569,  1.5569,  1.5569],\n",
       "          [ 2.0209,  2.0209,  2.0209,  ...,  1.5569,  1.5569,  1.5569]]]),\n",
       " 'true_label': 0.0,\n",
       " 'noisy_label': 2.0,\n",
       " 'image_path': '/media/NAS/DATASET/cifar10/split/train/airplane/aeroplane_s_000004.png'}"
      ]
     },
     "execution_count": 2,
     "metadata": {},
     "output_type": "execute_result"
    }
   ],
   "source": [
    "trainset[0]"
   ]
  }
 ],
 "metadata": {
  "kernelspec": {
   "display_name": "df_detection",
   "language": "python",
   "name": "python3"
  },
  "language_info": {
   "codemirror_mode": {
    "name": "ipython",
    "version": 3
   },
   "file_extension": ".py",
   "mimetype": "text/x-python",
   "name": "python",
   "nbconvert_exporter": "python",
   "pygments_lexer": "ipython3",
   "version": "3.7.16"
  }
 },
 "nbformat": 4,
 "nbformat_minor": 2
}
